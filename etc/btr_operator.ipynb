{
 "cells": [
  {
   "cell_type": "code",
   "execution_count": null,
   "metadata": {},
   "outputs": [],
   "source": [
    "import btdlall\n",
    "import btranking\n",
    "import os\n",
    "import os.path\n",
    "import pandas as pd"
   ]
  },
  {
   "cell_type": "code",
   "execution_count": null,
   "metadata": {},
   "outputs": [],
   "source": [
    "dir_home = os.environ['HOME']\n",
    "dir_bt = os.path.join(dir_home, \"bt\")\n",
    "dir_data = os.path.join(dir_bt, \"rdata/\")\n",
    "dir_src = os.path.join(dir_bt, \"src/\")\n",
    "dir_tmp = os.path.join(dir_bt, \"tmp/\")\n",
    "dir_json = os.path.join(dir_bt, \"json/\")\n",
    "dir_out = os.path.join(dir_bt, \"out/\")\n",
    "\n",
    "debug = True\n",
    "vali_k = 3\n",
    "cutoffs = [1, 3, 6]\n",
    "models_to_run = [\n",
    "    #'RankMSE',\n",
    "    'RankNet',\n",
    "    'LambdaRank',\n",
    "    'ListNet',\n",
    "    #'ListMLE',\n",
    "    #'RankCosine',\n",
    "    #'ApproxNDCG',\n",
    "    'WassRank',\n",
    "    #'STListNet',\n",
    "    'LambdaLoss'\n",
    "]\n",
    "\n",
    "if not os.path.exists(dir_data):\n",
    "    os.mkdir(dir_data)\n",
    "if not os.path.exists(dir_src):\n",
    "    os.mkdir(dir_src)\n",
    "if not os.path.exists(dir_tmp):\n",
    "    os.mkdir(dir_tmp)\n",
    "if not os.path.exists(dir_json):\n",
    "    os.mkdir(dir_json)\n",
    "if not os.path.exists(dir_out):\n",
    "    os.mkdir(dir_out)\n",
    "\n",
    "command = 3"
   ]
  },
  {
   "cell_type": "markdown",
   "metadata": {},
   "source": [
    "<p>Download src</p>"
   ]
  },
  {
   "cell_type": "code",
   "execution_count": null,
   "metadata": {},
   "outputs": [],
   "source": [
    "if command == 1:\n",
    "    btdlall.main(downall = True, idir = dir_src)"
   ]
  },
  {
   "cell_type": "markdown",
   "metadata": {},
   "source": [
    "<p>Generate train data</p>"
   ]
  },
  {
   "cell_type": "code",
   "execution_count": null,
   "metadata": {
    "scrolled": true
   },
   "outputs": [],
   "source": [
    "if command == 2:\n",
    "    btdlall.main(gentrain = True, idir = dir_src, odir = dir_data)"
   ]
  },
  {
   "cell_type": "markdown",
   "metadata": {},
   "source": [
    "<p>Normalize data</p>"
   ]
  },
  {
   "cell_type": "code",
   "execution_count": null,
   "metadata": {
    "scrolled": false
   },
   "outputs": [],
   "source": [
    "if command == 3:\n",
    "    btdlall.main(normalize_data = True, idir = dir_data, odir = dir_data)"
   ]
  },
  {
   "cell_type": "markdown",
   "metadata": {},
   "source": [
    "<p>Train</p>"
   ]
  },
  {
   "cell_type": "code",
   "execution_count": null,
   "metadata": {},
   "outputs": [],
   "source": [
    "if command == 4:\n",
    "    btranking.start_train(models_to_run, dir_json, dir_data, dir_out, vali_k, cutoffs, debug)"
   ]
  },
  {
   "cell_type": "markdown",
   "metadata": {},
   "source": [
    "<p>Generate predict data</p>"
   ]
  },
  {
   "cell_type": "code",
   "execution_count": null,
   "metadata": {},
   "outputs": [],
   "source": [
    "if command == 5:\n",
    "    race_number = 1\n",
    "    place_code = 9 # \n",
    "\n",
    "    weather_code = -1 # [\"晴\", \"雨\", \"雪\", \"曇\"]\n",
    "    wind = -1\n",
    "    wind_direction = -1 # [\"北\",\"北北東\",\"北東\",\"東北東\",\"東\",\"東南東\",\"南東\",\"南南東\",\"南\",\"南南西\",\"南西\",\"西南西\",\"西\",\"西北西\",\"北西\",\"北北西\",\"無風\"]\n",
    "    wave = -1\n",
    "\n",
    "    curse = [-1, -1, -1, -1, -1, -1]\n",
    "    start_time = [-1, -1, -1, -1, -1, -1]\n",
    "    exhibition_time = [-1, -1, -1, -1, -1, -1]\n",
    "\n",
    "    csv_file = os.path.join(dir_data, \"predict.csv\")\n",
    "    if os.path.isfile(csv_file):\n",
    "        os.remove(csv_file)\n",
    "\n",
    "    btdlall.main(genpdict = True, idir = dir_tmp, odir = dir_data, \n",
    "                 rnum = race_number, pnum = place_code,\n",
    "                 weather = weather_code, wind = wind, wind_direction = wind_direction, wave = wave,\n",
    "                 curse = curse, stime = start_time, extime = exhibition_time)\n",
    "\n",
    "    if os.path.isfile(csv_file):\n",
    "        df = pd.read_csv(csv_file)\n",
    "        df"
   ]
  },
  {
   "cell_type": "markdown",
   "metadata": {},
   "source": [
    "<p>Predict</p>"
   ]
  },
  {
   "cell_type": "code",
   "execution_count": null,
   "metadata": {},
   "outputs": [],
   "source": [
    "if command == 6:\n",
    "    model_save_path = os.path.join(dir_bt, \"\")\n",
    "    data_file_path = os.path.join(dir_data, \"predict.txt\")\n",
    "\n",
    "    if os.path.isfile(model_save_path) and os.path.isfile(data_file_path):\n",
    "        pred = btranking.predict(models_to_run[0], model_save_path, data_file_path, \n",
    "                                 dir_json, dir_data, dir_out, vali_k, cutoffs, debug)\n",
    "        print(pred)"
   ]
  }
 ],
 "metadata": {
  "kernelspec": {
   "display_name": "Python 3",
   "language": "python",
   "name": "python3"
  },
  "language_info": {
   "codemirror_mode": {
    "name": "ipython",
    "version": 3
   },
   "file_extension": ".py",
   "mimetype": "text/x-python",
   "name": "python",
   "nbconvert_exporter": "python",
   "pygments_lexer": "ipython3",
   "version": "3.7.3"
  }
 },
 "nbformat": 4,
 "nbformat_minor": 2
}
